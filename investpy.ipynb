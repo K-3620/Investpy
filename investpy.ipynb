{
  "nbformat": 4,
  "nbformat_minor": 0,
  "metadata": {
    "colab": {
      "name": "investpy.ipynb",
      "provenance": [],
      "collapsed_sections": [],
      "authorship_tag": "ABX9TyP4OxmRcTJatliM3bVMx586",
      "include_colab_link": true
    },
    "kernelspec": {
      "name": "python3",
      "display_name": "Python 3"
    }
  },
  "cells": [
    {
      "cell_type": "markdown",
      "metadata": {
        "id": "view-in-github",
        "colab_type": "text"
      },
      "source": [
        "<a href=\"https://colab.research.google.com/github/K-3620/Investpy/blob/main/investpy.ipynb\" target=\"_parent\"><img src=\"https://colab.research.google.com/assets/colab-badge.svg\" alt=\"Open In Colab\"/></a>"
      ]
    },
    {
      "cell_type": "code",
      "metadata": {
        "id": "arsTIgJTfN3x",
        "outputId": "99071f35-aa3a-49cf-807a-545b34278732",
        "colab": {
          "base_uri": "https://localhost:8080/",
          "height": 738
        }
      },
      "source": [
        "!pip install investpy"
      ],
      "execution_count": 1,
      "outputs": [
        {
          "output_type": "stream",
          "text": [
            "Collecting investpy\n",
            "\u001b[?25l  Downloading https://files.pythonhosted.org/packages/68/13/96dafb7ab1bdd6e72b6d7ec7d1b1a1452c5a80bda58e552021c543d75e9b/investpy-1.0.tar.gz (4.4MB)\n",
            "\u001b[K     |████████████████████████████████| 4.4MB 6.2MB/s \n",
            "\u001b[?25hCollecting Unidecode>=1.1.1\n",
            "\u001b[?25l  Downloading https://files.pythonhosted.org/packages/d0/42/d9edfed04228bacea2d824904cae367ee9efd05e6cce7ceaaedd0b0ad964/Unidecode-1.1.1-py2.py3-none-any.whl (238kB)\n",
            "\u001b[K     |████████████████████████████████| 245kB 45.6MB/s \n",
            "\u001b[?25hRequirement already satisfied: setuptools>=41.2.0 in /usr/local/lib/python3.6/dist-packages (from investpy) (50.3.0)\n",
            "Requirement already satisfied: numpy>=1.17.2 in /usr/local/lib/python3.6/dist-packages (from investpy) (1.18.5)\n",
            "Requirement already satisfied: pandas>=0.25.1 in /usr/local/lib/python3.6/dist-packages (from investpy) (1.1.3)\n",
            "Collecting lxml>=4.4.1\n",
            "\u001b[?25l  Downloading https://files.pythonhosted.org/packages/64/28/0b761b64ecbd63d272ed0e7a6ae6e4402fc37886b59181bfdf274424d693/lxml-4.6.1-cp36-cp36m-manylinux1_x86_64.whl (5.5MB)\n",
            "\u001b[K     |████████████████████████████████| 5.5MB 48.6MB/s \n",
            "\u001b[?25hRequirement already satisfied: requests>=2.22.0 in /usr/local/lib/python3.6/dist-packages (from investpy) (2.23.0)\n",
            "Collecting pytz>=2019.3\n",
            "\u001b[?25l  Downloading https://files.pythonhosted.org/packages/4f/a4/879454d49688e2fad93e59d7d4efda580b783c745fd2ec2a3adf87b0808d/pytz-2020.1-py2.py3-none-any.whl (510kB)\n",
            "\u001b[K     |████████████████████████████████| 512kB 49.8MB/s \n",
            "\u001b[?25hRequirement already satisfied: python-dateutil>=2.7.3 in /usr/local/lib/python3.6/dist-packages (from pandas>=0.25.1->investpy) (2.8.1)\n",
            "Requirement already satisfied: idna<3,>=2.5 in /usr/local/lib/python3.6/dist-packages (from requests>=2.22.0->investpy) (2.10)\n",
            "Requirement already satisfied: certifi>=2017.4.17 in /usr/local/lib/python3.6/dist-packages (from requests>=2.22.0->investpy) (2020.6.20)\n",
            "Requirement already satisfied: chardet<4,>=3.0.2 in /usr/local/lib/python3.6/dist-packages (from requests>=2.22.0->investpy) (3.0.4)\n",
            "Requirement already satisfied: urllib3!=1.25.0,!=1.25.1,<1.26,>=1.21.1 in /usr/local/lib/python3.6/dist-packages (from requests>=2.22.0->investpy) (1.24.3)\n",
            "Requirement already satisfied: six>=1.5 in /usr/local/lib/python3.6/dist-packages (from python-dateutil>=2.7.3->pandas>=0.25.1->investpy) (1.15.0)\n",
            "Building wheels for collected packages: investpy\n",
            "  Building wheel for investpy (setup.py) ... \u001b[?25l\u001b[?25hdone\n",
            "  Created wheel for investpy: filename=investpy-1.0-cp36-none-any.whl size=4465841 sha256=c8ca8f47d85b59dee35af09aae036feb76acd9644dbf71926a099698fcc53685\n",
            "  Stored in directory: /root/.cache/pip/wheels/ed/a0/ec/5866604d61abe747911c1ecafeea8ac27b5b17670e1191782a\n",
            "Successfully built investpy\n",
            "Installing collected packages: Unidecode, lxml, pytz, investpy\n",
            "  Found existing installation: lxml 4.2.6\n",
            "    Uninstalling lxml-4.2.6:\n",
            "      Successfully uninstalled lxml-4.2.6\n",
            "  Found existing installation: pytz 2018.9\n",
            "    Uninstalling pytz-2018.9:\n",
            "      Successfully uninstalled pytz-2018.9\n",
            "Successfully installed Unidecode-1.1.1 investpy-1.0 lxml-4.6.1 pytz-2020.1\n"
          ],
          "name": "stdout"
        },
        {
          "output_type": "display_data",
          "data": {
            "application/vnd.colab-display-data+json": {
              "pip_warning": {
                "packages": [
                  "pytz"
                ]
              }
            }
          },
          "metadata": {
            "tags": []
          }
        }
      ]
    },
    {
      "cell_type": "code",
      "metadata": {
        "id": "0lUy-DDNfQ3Q"
      },
      "source": [
        "import investpy"
      ],
      "execution_count": 2,
      "outputs": []
    },
    {
      "cell_type": "code",
      "metadata": {
        "id": "UgYJ6frGfkkd",
        "outputId": "26c46f7e-7a11-453d-bd76-c58b423843ac",
        "colab": {
          "base_uri": "https://localhost:8080/",
          "height": 450
        }
      },
      "source": [
        "df = investpy.get_stock_historical_data(\n",
        "    stock='000020' # 동화약품\n",
        "    ,country='South Korea'\n",
        "    ,from_date='01/01/2011'\n",
        "    ,to_date='31/12/2011'\n",
        "    ,as_json=False\n",
        "    ,order='ascending'\n",
        ")\n",
        "df"
      ],
      "execution_count": 3,
      "outputs": [
        {
          "output_type": "execute_result",
          "data": {
            "text/html": [
              "<div>\n",
              "<style scoped>\n",
              "    .dataframe tbody tr th:only-of-type {\n",
              "        vertical-align: middle;\n",
              "    }\n",
              "\n",
              "    .dataframe tbody tr th {\n",
              "        vertical-align: top;\n",
              "    }\n",
              "\n",
              "    .dataframe thead th {\n",
              "        text-align: right;\n",
              "    }\n",
              "</style>\n",
              "<table border=\"1\" class=\"dataframe\">\n",
              "  <thead>\n",
              "    <tr style=\"text-align: right;\">\n",
              "      <th></th>\n",
              "      <th>Open</th>\n",
              "      <th>High</th>\n",
              "      <th>Low</th>\n",
              "      <th>Close</th>\n",
              "      <th>Volume</th>\n",
              "      <th>Currency</th>\n",
              "    </tr>\n",
              "    <tr>\n",
              "      <th>Date</th>\n",
              "      <th></th>\n",
              "      <th></th>\n",
              "      <th></th>\n",
              "      <th></th>\n",
              "      <th></th>\n",
              "      <th></th>\n",
              "    </tr>\n",
              "  </thead>\n",
              "  <tbody>\n",
              "    <tr>\n",
              "      <th>2011-08-23</th>\n",
              "      <td>4855.0</td>\n",
              "      <td>4990.0</td>\n",
              "      <td>4855.0</td>\n",
              "      <td>4935.0</td>\n",
              "      <td>127354</td>\n",
              "      <td>KRW</td>\n",
              "    </tr>\n",
              "    <tr>\n",
              "      <th>2011-08-24</th>\n",
              "      <td>5020.0</td>\n",
              "      <td>5020.0</td>\n",
              "      <td>4820.0</td>\n",
              "      <td>4840.0</td>\n",
              "      <td>185301</td>\n",
              "      <td>KRW</td>\n",
              "    </tr>\n",
              "    <tr>\n",
              "      <th>2011-08-25</th>\n",
              "      <td>4925.0</td>\n",
              "      <td>5020.0</td>\n",
              "      <td>4850.0</td>\n",
              "      <td>4950.0</td>\n",
              "      <td>121430</td>\n",
              "      <td>KRW</td>\n",
              "    </tr>\n",
              "    <tr>\n",
              "      <th>2011-08-26</th>\n",
              "      <td>4970.0</td>\n",
              "      <td>5190.0</td>\n",
              "      <td>4760.0</td>\n",
              "      <td>5070.0</td>\n",
              "      <td>222830</td>\n",
              "      <td>KRW</td>\n",
              "    </tr>\n",
              "    <tr>\n",
              "      <th>2011-08-29</th>\n",
              "      <td>5090.0</td>\n",
              "      <td>5380.0</td>\n",
              "      <td>5020.0</td>\n",
              "      <td>5200.0</td>\n",
              "      <td>231782</td>\n",
              "      <td>KRW</td>\n",
              "    </tr>\n",
              "    <tr>\n",
              "      <th>...</th>\n",
              "      <td>...</td>\n",
              "      <td>...</td>\n",
              "      <td>...</td>\n",
              "      <td>...</td>\n",
              "      <td>...</td>\n",
              "      <td>...</td>\n",
              "    </tr>\n",
              "    <tr>\n",
              "      <th>2011-12-23</th>\n",
              "      <td>4195.0</td>\n",
              "      <td>4295.0</td>\n",
              "      <td>4185.0</td>\n",
              "      <td>4275.0</td>\n",
              "      <td>76350</td>\n",
              "      <td>KRW</td>\n",
              "    </tr>\n",
              "    <tr>\n",
              "      <th>2011-12-26</th>\n",
              "      <td>4290.0</td>\n",
              "      <td>4295.0</td>\n",
              "      <td>4200.0</td>\n",
              "      <td>4255.0</td>\n",
              "      <td>61055</td>\n",
              "      <td>KRW</td>\n",
              "    </tr>\n",
              "    <tr>\n",
              "      <th>2011-12-27</th>\n",
              "      <td>4220.0</td>\n",
              "      <td>4255.0</td>\n",
              "      <td>4140.0</td>\n",
              "      <td>4155.0</td>\n",
              "      <td>101139</td>\n",
              "      <td>KRW</td>\n",
              "    </tr>\n",
              "    <tr>\n",
              "      <th>2011-12-28</th>\n",
              "      <td>4010.0</td>\n",
              "      <td>4100.0</td>\n",
              "      <td>4010.0</td>\n",
              "      <td>4090.0</td>\n",
              "      <td>101464</td>\n",
              "      <td>KRW</td>\n",
              "    </tr>\n",
              "    <tr>\n",
              "      <th>2011-12-29</th>\n",
              "      <td>4080.0</td>\n",
              "      <td>4150.0</td>\n",
              "      <td>4050.0</td>\n",
              "      <td>4080.0</td>\n",
              "      <td>40600</td>\n",
              "      <td>KRW</td>\n",
              "    </tr>\n",
              "  </tbody>\n",
              "</table>\n",
              "<p>90 rows × 6 columns</p>\n",
              "</div>"
            ],
            "text/plain": [
              "              Open    High     Low   Close  Volume Currency\n",
              "Date                                                       \n",
              "2011-08-23  4855.0  4990.0  4855.0  4935.0  127354      KRW\n",
              "2011-08-24  5020.0  5020.0  4820.0  4840.0  185301      KRW\n",
              "2011-08-25  4925.0  5020.0  4850.0  4950.0  121430      KRW\n",
              "2011-08-26  4970.0  5190.0  4760.0  5070.0  222830      KRW\n",
              "2011-08-29  5090.0  5380.0  5020.0  5200.0  231782      KRW\n",
              "...            ...     ...     ...     ...     ...      ...\n",
              "2011-12-23  4195.0  4295.0  4185.0  4275.0   76350      KRW\n",
              "2011-12-26  4290.0  4295.0  4200.0  4255.0   61055      KRW\n",
              "2011-12-27  4220.0  4255.0  4140.0  4155.0  101139      KRW\n",
              "2011-12-28  4010.0  4100.0  4010.0  4090.0  101464      KRW\n",
              "2011-12-29  4080.0  4150.0  4050.0  4080.0   40600      KRW\n",
              "\n",
              "[90 rows x 6 columns]"
            ]
          },
          "metadata": {
            "tags": []
          },
          "execution_count": 3
        }
      ]
    },
    {
      "cell_type": "code",
      "metadata": {
        "id": "5BtPIqLmfyji"
      },
      "source": [
        ""
      ],
      "execution_count": 3,
      "outputs": []
    }
  ]
}